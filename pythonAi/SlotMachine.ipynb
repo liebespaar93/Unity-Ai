{
 "cells": [
  {
   "cell_type": "code",
   "execution_count": 32,
   "metadata": {},
   "outputs": [],
   "source": [
    "import random"
   ]
  },
  {
   "cell_type": "code",
   "execution_count": 34,
   "metadata": {},
   "outputs": [],
   "source": [
    "class SlotMachine:\n",
    "    def __init__(self, p):\n",
    "        self.p = p\n",
    "        self.reward = 0.0\n",
    "        self.draws = 0\n",
    "    \n",
    "    def draw(self):\n",
    "        self.draws += 1\n",
    "        if random.uniform(0.0, 1.0) <= self.p:\n",
    "            self.reward += 1.0\n",
    "            return 1.0\n",
    "        return 0.0\n",
    "    # 현재까지의 평균 기대치\n",
    "    def getStat(self):\n",
    "        if self.draws == 0: return 0.0\n",
    "        return self.reward/self.draws"
   ]
  },
  {
   "cell_type": "code",
   "execution_count": 37,
   "metadata": {},
   "outputs": [],
   "source": [
    "n = int(input(\"How many slot machines : \"))\n",
    "machines = []\n",
    "for i in range(n):\n",
    "    p = float(input(f\"Slot machine {i+1} probability : \"))\n",
    "    machines.append(SlotMachine(p))\n",
    "\n",
    "e = float(input(\"Enter epsilon value : \"))\n",
    "k = int(input(\"How many times do you draw : \"))"
   ]
  },
  {
   "cell_type": "code",
   "execution_count": 78,
   "metadata": {},
   "outputs": [
    {
     "name": "stdout",
     "output_type": "stream",
     "text": [
      "10번 시행후 총 보상값 : 4.0\n"
     ]
    }
   ],
   "source": [
    "statics = []\n",
    "ecs = [e]\n",
    "ec = e\n",
    "# k번 레버를 당기는 동안\n",
    "for i in range(k):\n",
    "    if random.uniform(0.0, 1.0) <= ec:\n",
    "        choice = random.randrange(0, n)\n",
    "    else:\n",
    "        choice = 0\n",
    "        maxv = machines[0].getStat()\n",
    "        for m in range(1, n):\n",
    "            v = machines[m].getStat()\n",
    "            if v > maxv:\n",
    "                choice = m\n",
    "                maxv = v\n",
    "    reward = machines[choice].draw()\n",
    "    statics.append(reward)\n",
    "    ec *= e\n",
    "    ecs.append(ec)\n",
    "\n",
    "print(f\"{k}번 시행후 총 보상값 : {sum(statics)}\")"
   ]
  },
  {
   "cell_type": "code",
   "execution_count": 79,
   "metadata": {},
   "outputs": [
    {
     "data": {
      "text/plain": [
       "[<matplotlib.lines.Line2D at 0x7ff3f10065b0>,\n",
       " <matplotlib.lines.Line2D at 0x7ff3f10065e0>]"
      ]
     },
     "execution_count": 79,
     "metadata": {},
     "output_type": "execute_result"
    },
    {
     "data": {
      "image/png": "[encoded data removed]",
      "text/plain": [
       "<Figure size 432x288 with 1 Axes>"
      ]
     },
     "metadata": {
      "needs_background": "light"
     },
     "output_type": "display_data"
    }
   ],
   "source": [
    "import matplotlib.pyplot as plt\n",
    "\n",
    "s = [0]\n",
    "for i in range(k):\n",
    "    s.append((s[-1]*i+statics[i])/(i+1))\n",
    "_, ax = plt.subplots()\n",
    "ax.plot(list(range(k+1)), s, list(range(k+1)), ecs)"
   ]
  }
 ],
 "metadata": {
  "anaconda-cloud": {},
  "colab": {
   "collapsed_sections": [],
   "name": "mnist_mlp_실습.ipynb",
   "provenance": []
  },
  "interpreter": {
   "hash": "aee8b7b246df8f9039afb4144a1f6fd8d2ca17a180786b69acc140d282b71a49"
  },
  "kernelspec": {
   "display_name": "Python 3.9.5 64-bit",
   "name": "python3"
  },
  "language_info": {
   "codemirror_mode": {
    "name": "ipython",
    "version": 3
   },
   "file_extension": ".py",
   "mimetype": "text/x-python",
   "name": "python",
   "nbconvert_exporter": "python",
   "pygments_lexer": "ipython3",
   "version": "3.9.5"
  }
 },
 "nbformat": 4,
 "nbformat_minor": 1
}
